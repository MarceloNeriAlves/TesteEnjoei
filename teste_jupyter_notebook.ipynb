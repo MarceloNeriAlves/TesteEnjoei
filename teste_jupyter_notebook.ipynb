{
 "cells": [
  {
   "cell_type": "markdown",
   "id": "0c467b52",
   "metadata": {},
   "source": [
    "link da documentação: https://fakestoreapi.com/docs\n",
    "\n",
    "o resultado final deverá ser um arquivo em um dos seguintes formatos: Parquet, CSV, AVRO ou JSON. Este arquivo deve conter as seguintes informações:\n",
    "\n",
    "- identificador de usuário\n",
    " - data mais recente em que o usuário adicionou produtos ao carrinho\n",
    "- categoria em que o usuário tem mais produtos adicionados ao carrinho\n",
    "\n",
    "considerações:\n",
    "\n",
    "- você pode utilizar a linguagem de programação que quiser\n",
    "- a solução deve ser disponibilizada através de repositório público no GitHub.\n",
    "\n",
    "critérios avaliados:\n",
    "\n",
    "- lógica de programação\n",
    "- documentação\n",
    " - qualidade do código \n",
    "\n",
    "a entrega do teste deverá ser realizada até 23/05/2024 (quinta feira) ao 12:00."
   ]
  },
  {
   "cell_type": "code",
   "execution_count": 16,
   "id": "d97123e8",
   "metadata": {},
   "outputs": [],
   "source": [
    "import requests\n",
    "import pandas as pd\n",
    "from io import StringIO\n",
    "\n",
    "#Lendo todos os dados necessários da API\n",
    "\n",
    "url = 'https://fakestoreapi.com'\n",
    "products = requests.get(f\"{url}/products\")\n",
    "carts = requests.get(f\"{url}/carts\")\n",
    "users = requests.get(f\"{url}/users\")\n",
    "dfProduct = pd.read_json(StringIO(products.text))\n",
    "dfCart = pd.read_json(StringIO(carts.text))\n",
    "dfUser = pd.read_json(StringIO(users.text))\n"
   ]
  },
  {
   "cell_type": "code",
   "execution_count": 17,
   "id": "7fcc0b7e",
   "metadata": {
    "scrolled": true
   },
   "outputs": [],
   "source": [
    "#Realizando transformações necessárias na tabela de carrinhos dos usuários\n",
    "\n",
    "dfCart= dfCart.explode('products') #Separando linhas de produtos agrupados\n",
    "dfCart['products'] = dfCart['products'].astype('str') \n",
    "dfCart[['productId','quantity']] = dfCart['products'].str.split(',',expand=True) #Separando a coluna produtos para adquirir a coluna de id do produto e sua quantidade em carrinho\n",
    "dfCart['productId'] = dfCart['productId'].str.extract('(\\d+)') #Extraindo somente o número da chave.\n",
    "dfCart['quantity'] = dfCart['quantity'].str.extract('(\\d+)').astype(int) #Extraindo somente o número de quantidade e transformando-o em int\n",
    "dfCart['date'] = dfCart['date'].dt.date #Transformando em formato date, já que o timestamp deste exemplo não apresentava dados úteis."
   ]
  },
  {
   "cell_type": "code",
   "execution_count": 18,
   "id": "872bf914",
   "metadata": {},
   "outputs": [],
   "source": [
    "#Realizando transformações necessárias na tabela produtos\n",
    "\n",
    "dfProduct.rename(columns={'id':'productId'}, inplace= True) #Padronizando nome da coluna que utilizarei no join\n",
    "dfProduct = dfProduct.filter(['productId', 'category']) #Filtrando apenas colunas que vou utilizar\n",
    "dfProduct['productId'] = dfProduct['productId'].astype('str')"
   ]
  },
  {
   "cell_type": "code",
   "execution_count": 19,
   "id": "7143f7f5",
   "metadata": {
    "scrolled": true
   },
   "outputs": [],
   "source": [
    "#Apesar da tabela carrinho já conter id do usuário, acho mais prudente realizar o join considerando que normalmente algum dado do usuário seria interessante\n",
    "\n",
    "dfEnd = dfUser.filter(['id'], axis=1)"
   ]
  },
  {
   "cell_type": "code",
   "execution_count": 20,
   "id": "ffb7f500",
   "metadata": {
    "scrolled": true
   },
   "outputs": [],
   "source": [
    "#Realizando as etapas de join e group by necessárias para chegar no resultado desejado\n",
    "\n",
    "dfEnd.rename(columns={'id':'userId'}, inplace=True) #Padronizando id de usuário que usarei para o join\n",
    "dfEnd = dfEnd.merge(dfCart, on='userId', how='left') #Left join para adquirir os dados dos carrinhos de todos os usuários com a possibilidade de adquirir dados de usuários caso necessário\n",
    "dfEnd = dfEnd.filter(['userId', 'date', 'productId', 'quantity'], axis=1) #Filtrando apenas as colunas relevantes para a informação desejada\n",
    "dfEnd = dfEnd.merge(dfProduct, on='productId', how='left') #Left join para adquirir a categoria de todos os produtos presentes no carrinho\n",
    "dfEnd = dfEnd.drop(['productId'], axis=1) #Removendo o id do produto, que não tem relevância pós join para os dados desejados\n",
    "idx = dfEnd.groupby(['userId'], sort=False)['date'].transform('max') == dfEnd.date #Retorna true para as linhas que contém a data máxima de um userid\n",
    "dfEnd = dfEnd[idx] #filtra somente os indíces verdadeiros\n",
    "dfEnd = dfEnd.groupby(['userId','category','date']).sum().reset_index() #Soma as quantidades de cada categoria\n",
    "dfEnd = dfEnd.groupby(['userId']).max().reset_index() #Retorna somente a categoria com a maior quantidade e a sua quantidade\n",
    "dfEnd['quantity'] = dfEnd['quantity'].astype(int) #Alterando a quantidade para int, já que não apresenta valores decimais"
   ]
  },
  {
   "cell_type": "code",
   "execution_count": 21,
   "id": "4815dc5d",
   "metadata": {
    "scrolled": false
   },
   "outputs": [],
   "source": [
    "dfEnd.to_csv('result.csv')"
   ]
  }
 ],
 "metadata": {
  "kernelspec": {
   "display_name": "Python 3 (ipykernel)",
   "language": "python",
   "name": "python3"
  },
  "language_info": {
   "codemirror_mode": {
    "name": "ipython",
    "version": 3
   },
   "file_extension": ".py",
   "mimetype": "text/x-python",
   "name": "python",
   "nbconvert_exporter": "python",
   "pygments_lexer": "ipython3",
   "version": "3.9.19"
  }
 },
 "nbformat": 4,
 "nbformat_minor": 5
}
